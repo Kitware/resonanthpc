{
 "cells": [
  {
   "cell_type": "code",
   "execution_count": 1,
   "metadata": {},
   "outputs": [
    {
     "name": "stdout",
     "output_type": "stream",
     "text": [
      "Working directory /home/john/projects/resonant-hpc/git/resonantrpc/dev/jupyter/notebooks/..\n"
     ]
    }
   ],
   "source": [
    "import os\n",
    "\n",
    "# Change working dir so that we can import local module\n",
    "working_dir = os.path.join(os.getcwd(), os.pardir)\n",
    "os.chdir(working_dir)\n",
    "from reshpc import nersc_interface as rn\n",
    "print('Working directory {}'.format(working_dir))\n"
   ]
  },
  {
   "cell_type": "code",
   "execution_count": 2,
   "metadata": {},
   "outputs": [
    {
     "name": "stdout",
     "output_type": "stream",
     "text": [
      "sending command...\n"
     ]
    },
    {
     "data": {
      "text/plain": [
       "'OK'"
      ]
     },
     "execution_count": 2,
     "metadata": {},
     "output_type": "execute_result"
    }
   ],
   "source": [
    "nersc = rn.NerscInterface()\n",
    "nersc.login()"
   ]
  },
  {
   "cell_type": "code",
   "execution_count": 3,
   "metadata": {},
   "outputs": [
    {
     "name": "stdout",
     "output_type": "stream",
     "text": [
      "{'user': 'johnt', 'date': 'Oct 21 08:42', 'name': '.', 'size': 4096, 'group': 'johnt'}\n",
      "{'user': 'johnt', 'date': 'Oct 21 08:41', 'name': '..', 'size': 4096, 'group': 'johnt'}\n",
      "{'user': 'johnt', 'date': 'Oct 21 08:42', 'name': 'checkpoint00001.h5', 'size': 23336, 'group': 'johnt'}\n",
      "{'user': 'johnt', 'date': 'Oct 21 08:42', 'name': 'checkpoint_final.h5', 'size': 23336, 'group': 'johnt'}\n",
      "{'user': 'johnt', 'date': 'Oct 21 08:41', 'name': 'demo_01.xml', 'size': 16095, 'group': 'johnt'}\n",
      "{'user': 'johnt', 'date': 'Oct 21 08:41', 'name': 'job.sbatch', 'size': 374, 'group': 'johnt'}\n",
      "{'user': 'johnt', 'date': 'Oct 21 08:42', 'name': 'slurm-35369711.out', 'size': 25227, 'group': 'johnt'}\n",
      "{'user': 'johnt', 'date': 'Oct 21 08:42', 'name': 'visdump_data.VisIt.xmf', 'size': 344, 'group': 'johnt'}\n",
      "{'user': 'johnt', 'date': 'Oct 21 08:42', 'name': 'visdump_data.h5', 'size': 58632, 'group': 'johnt'}\n",
      "{'user': 'johnt', 'date': 'Oct 21 08:42', 'name': 'visdump_data.h5.0.xmf', 'size': 4241, 'group': 'johnt'}\n",
      "{'user': 'johnt', 'date': 'Oct 21 08:42', 'name': 'visdump_data.h5.1.xmf', 'size': 4241, 'group': 'johnt'}\n",
      "{'user': 'johnt', 'date': 'Oct 21 08:42', 'name': 'visdump_mesh.VisIt.xmf', 'size': 255, 'group': 'johnt'}\n",
      "{'user': 'johnt', 'date': 'Oct 21 08:42', 'name': 'visdump_mesh.h5', 'size': 20496, 'group': 'johnt'}\n",
      "{'user': 'johnt', 'date': 'Oct 21 08:42', 'name': 'visdump_mesh.h5.0.xmf', 'size': 596, 'group': 'johnt'}\n"
     ]
    }
   ],
   "source": [
    "nersc_folder = '/global/cscratch1/sd/johnt/reshpc/201021-114130'\n",
    "for item in nersc.list_folder(nersc_folder):\n",
    "    print(item)\n"
   ]
  },
  {
   "cell_type": "code",
   "execution_count": 10,
   "metadata": {},
   "outputs": [
    {
     "name": "stdout",
     "output_type": "stream",
     "text": [
      "['visdump_mesh.VisIt.xmf', 'Oct 21 08:42', 255]\n",
      "['visdump_mesh.h5', 'Oct 21 08:42', 20496]\n",
      "['visdump_mesh.h5.0.xmf', 'Oct 21 08:42', 596]\n",
      "[['visdump_mesh.VisIt.xmf', 'Oct 21 08:42', 255], ['visdump_mesh.h5', 'Oct 21 08:42', 20496], ['visdump_mesh.h5.0.xmf', 'Oct 21 08:42', 596]]\n"
     ]
    }
   ],
   "source": [
    "table = list()\n",
    "for item in nersc.list_folder(nersc_folder, glob_pattern='*_mesh.*'):\n",
    "    row = [item.get('name'), item.get('date'), item.get('size')]\n",
    "    print(row)\n",
    "    table.append(row)\n",
    "# headers = ['Name', 'Date', 'Size']\n",
    "# print(table)\n"
   ]
  },
  {
   "cell_type": "code",
   "execution_count": 3,
   "metadata": {},
   "outputs": [
    {
     "name": "stdout",
     "output_type": "stream",
     "text": [
      "sending command...\n",
      "cmb: rm -f /global/cscratch1/sd/johnt/reshpc/data.tgz && cd /global/cscratch1/sd/johnt/reshpc/201021-114130 && tar -czf /global/cscratch1/sd/johnt/reshpc/data.tgz *_mesh.*\n",
      "sending command...\n"
     ]
    },
    {
     "data": {
      "text/plain": [
       "'OK'"
      ]
     },
     "execution_count": 3,
     "metadata": {},
     "output_type": "execute_result"
    }
   ],
   "source": [
    "# Generate tar file of results on Cori\n",
    "import shutil\n",
    "\n",
    "nersc_folder = '/global/cscratch1/sd/johnt/reshpc/201021-114130'\n",
    "scratch_folder = '/global/cscratch1/sd/johnt'\n",
    "tarfile_name = 'data.tgz'\n",
    "nersc_tarfile = '{}/reshpc/{}'.format(scratch_folder, tarfile_name)\n",
    "nersc.make_tgzfile(nersc_folder, glob_pattern='*_mesh.*', tarfile=nersc_tarfile)\n",
    "\n",
    "# Download tar file to local folder\n",
    "local_folder = os.path.expanduser('~/.reshpc/data/201021-114130')\n",
    "if os.path.exists(local_folder):\n",
    "    shutil.rmtree(local_folder)\n",
    "os.makedirs(local_folder)\n",
    "nersc.download_file(nersc_tarfile, local_folder)\n"
   ]
  },
  {
   "cell_type": "code",
   "execution_count": 4,
   "metadata": {},
   "outputs": [],
   "source": [
    "# Expand tarfile\n",
    "import tarfile\n",
    "\n",
    "# tarfile_name = 'data.tgz'\n",
    "local_tarfile = os.path.join(local_folder, tarfile_name)\n",
    "tar = tarfile.open(local_tarfile)\n",
    "tar.extractall(local_folder)\n",
    "tar.close()\n",
    "\n",
    "# Optional\n",
    "# os.remove(local_tarfile)\n"
   ]
  },
  {
   "cell_type": "code",
   "execution_count": null,
   "metadata": {},
   "outputs": [],
   "source": []
  }
 ],
 "metadata": {
  "kernelspec": {
   "display_name": "Python 3",
   "language": "python",
   "name": "python3"
  },
  "language_info": {
   "codemirror_mode": {
    "name": "ipython",
    "version": 3
   },
   "file_extension": ".py",
   "mimetype": "text/x-python",
   "name": "python",
   "nbconvert_exporter": "python",
   "pygments_lexer": "ipython3",
   "version": "3.5.2"
  }
 },
 "nbformat": 4,
 "nbformat_minor": 2
}
