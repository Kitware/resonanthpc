{
 "cells": [
  {
   "cell_type": "markdown",
   "metadata": {},
   "source": [
    "# Run ATS Demo 01 on NERSC (Cori)\n",
    "\n",
    "## Before running this notebook\n",
    "\n",
    "You must first **use the nersc_login.ipynb notebook to login to NERSC**, which saves a \"NEWT session id\" to your home directory (`~/.newt_sessionid.txt`). That file is read in when using this notebook. The session id typically expires every 12-14 days."
   ]
  },
  {
   "cell_type": "code",
   "execution_count": 1,
   "metadata": {},
   "outputs": [
    {
     "name": "stdout",
     "output_type": "stream",
     "text": [
      "Working directory /home/john/projects/resonant-hpc/git/resonantrpc/dev/jupyter/notebooks/..\n"
     ]
    }
   ],
   "source": [
    "import os\n",
    "\n",
    "# Change working dir so that we can import local module\n",
    "working_dir = os.path.join(os.getcwd(), os.pardir)\n",
    "os.chdir(working_dir)\n",
    "print('Working directory {}'.format(working_dir))\n",
    "from reshpc import nersc_interface as rn\n"
   ]
  },
  {
   "cell_type": "code",
   "execution_count": 2,
   "metadata": {},
   "outputs": [
    {
     "name": "stdout",
     "output_type": "stream",
     "text": [
      "sending command...\n"
     ]
    },
    {
     "data": {
      "text/plain": [
       "'OK'"
      ]
     },
     "execution_count": 2,
     "metadata": {},
     "output_type": "execute_result"
    }
   ],
   "source": [
    "nersc = rn.NerscInterface()\n",
    "nersc.login()"
   ]
  },
  {
   "cell_type": "code",
   "execution_count": 3,
   "metadata": {},
   "outputs": [
    {
     "data": {
      "text/plain": [
       "'201023-1055'"
      ]
     },
     "execution_count": 3,
     "metadata": {},
     "output_type": "execute_result"
    }
   ],
   "source": [
    "# Generate new folder name yymmdd_hhmm\n",
    "import datetime\n",
    "now = datetime.datetime.now()\n",
    "datetime_code = now.strftime('%y%m%d-%H%M')\n",
    "datetime_code"
   ]
  },
  {
   "cell_type": "code",
   "execution_count": 4,
   "metadata": {},
   "outputs": [
    {
     "name": "stdout",
     "output_type": "stream",
     "text": [
      "sending command...\n"
     ]
    },
    {
     "data": {
      "text/plain": [
       "'/global/cscratch1/sd/johnt/reshpc/demo01/201023-1055'"
      ]
     },
     "execution_count": 4,
     "metadata": {},
     "output_type": "execute_result"
    }
   ],
   "source": [
    "# Generate path on Cori $SCRATCH folder\n",
    "scratch_folder = nersc.get_scratch_folder()\n",
    "nersc_folder = '{}/reshpc/demo01/{}'.format(scratch_folder, datetime_code)\n",
    "nersc_folder"
   ]
  },
  {
   "cell_type": "code",
   "execution_count": 5,
   "metadata": {},
   "outputs": [
    {
     "name": "stdout",
     "output_type": "stream",
     "text": [
      "sending command...\n"
     ]
    },
    {
     "data": {
      "text/plain": [
       "'OK'"
      ]
     },
     "execution_count": 5,
     "metadata": {},
     "output_type": "execute_result"
    }
   ],
   "source": [
    "nersc.make_folder(nersc_folder)"
   ]
  },
  {
   "cell_type": "code",
   "execution_count": 6,
   "metadata": {},
   "outputs": [
    {
     "name": "stdout",
     "output_type": "stream",
     "text": [
      "sending command...\n"
     ]
    },
    {
     "data": {
      "text/plain": [
       "'OK'"
      ]
     },
     "execution_count": 6,
     "metadata": {},
     "output_type": "execute_result"
    }
   ],
   "source": [
    "# Upload demo 01 baseline file\n",
    "xml_file = 'demo_01.xml'\n",
    "local_file = os.path.join(working_dir, 'data', xml_file)\n",
    "assert os.path.exists(local_file)\n",
    "\n",
    "nersc.upload_file(local_file, nersc_folder)"
   ]
  },
  {
   "cell_type": "code",
   "execution_count": 7,
   "metadata": {},
   "outputs": [],
   "source": [
    "# Specify SLURM script\n",
    "ats = '/project/projectdirs/m2398/ideas/ats/install/cori/ats-0.88-basic/RelWithDebInfo/PrgEnv-gnu-6.0.5/bin/ats'\n",
    "timeout_min = 5\n",
    "nodes = 1\n",
    "cores_per_node = 1\n",
    "\n",
    "slurm_commands = [\n",
    "    '#!/bin/bash',\n",
    "    '#SBATCH --account=m2398',\n",
    "    '#SBATCH --chdir={}'.format(nersc_folder),\n",
    "    '#SBATCH --partition=debug',\n",
    "    '#SBATCH --time=0:{}:0'.format(timeout_min),\n",
    "    '#SBATCH --nodes={}'.format(nodes),\n",
    "    '#SBATCH --tasks-per-node={}'.format(cores_per_node),\n",
    "    '#SBATCH --constraint=haswell',\n",
    "    'ulimit -s unlimited',\n",
    "    'srun {} --xml_file={}'.format(ats, xml_file),\n",
    "    ''\n",
    "]\n",
    "slurm_string = '\\n'.join(slurm_commands)"
   ]
  },
  {
   "cell_type": "code",
   "execution_count": 8,
   "metadata": {},
   "outputs": [
    {
     "name": "stdout",
     "output_type": "stream",
     "text": [
      "uploading slurm script...\n",
      "submitting job...\n",
      "{'status': 'OK', 'jobid': '35432279', 'error': ''}\n"
     ]
    }
   ],
   "source": [
    "# Submit job\n",
    "result = nersc.submit_job(slurm_string, nersc_folder)\n",
    "print(result)"
   ]
  },
  {
   "cell_type": "markdown",
   "metadata": {},
   "source": [
    "## Check job status\n",
    "\n",
    "If the job was submitted OK, use the next cell to monitor its status. Execute the next cell until you see that the job has finished processing.\n",
    "\n",
    "\n",
    "If the job successfully runs, the Job State will typically traverse these values:\n",
    "\n",
    "| Job State Code | Description|\n",
    "|--------|------------|\n",
    "| PD | pending |\n",
    "| R  | running |\n",
    "| CG | completing |\n",
    "| CD | completed |\n",
    "\n",
    "If problems occur, the most relevant Job State codes are\n",
    "\n",
    "| Job State Code | Description|\n",
    "|--------|------------|\n",
    "| F   | failed |\n",
    "| RNF | node failed |\n",
    "| OOM | out of memory |\n",
    "| TO  | timeout |\n",
    "\n",
    "All of the SLURM job state codes are listed at https://slurm.schedmd.com/squeue.html#lbAG\n"
   ]
  },
  {
   "cell_type": "code",
   "execution_count": 10,
   "metadata": {},
   "outputs": [
    {
     "name": "stdout",
     "output_type": "stream",
     "text": [
      "sending command...\n",
      "Job State: CD\n"
     ]
    }
   ],
   "source": [
    "# Execute this cell until the job state is complete,\n",
    "# generally this means the job state is NOT one of \"PD\", \"R\", \"CG\".\n",
    "\n",
    "job_id = result.get('jobid')\n",
    "if job_id:\n",
    "    info = nersc.get_job_info(job_id, verbose=True)\n",
    "#     print(info)\n",
    "    state = info.get('status')\n",
    "    print('Job State: {}'.format(state))\n",
    "    if state in ['PD', 'R', 'CG']:\n",
    "        print('NOT done => continue checking')"
   ]
  },
  {
   "cell_type": "code",
   "execution_count": 11,
   "metadata": {},
   "outputs": [
    {
     "name": "stdout",
     "output_type": "stream",
     "text": [
      "sending command...\n",
      "     255  visdump_mesh.VisIt.xmf\n",
      "   20496  visdump_mesh.h5\n",
      "     596  visdump_mesh.h5.0.xmf\n"
     ]
    }
   ],
   "source": [
    "# Once the job is done, list the contents of the NERSC folder\n",
    "# nersc_folder = '/global/cscratch1/sd/johnt/reshpc/201021-114130'\n",
    "for item in nersc.list_folder(nersc_folder, glob_pattern='*_mesh.*'):\n",
    "    name = item.get('name')\n",
    "    size = int(item.get('size', 0))\n",
    "    row = '{:8}  {}'.format(size, name)\n",
    "    print(row)"
   ]
  },
  {
   "cell_type": "code",
   "execution_count": 13,
   "metadata": {},
   "outputs": [
    {
     "name": "stdout",
     "output_type": "stream",
     "text": [
      "sending command...\n",
      "sending command...\n"
     ]
    },
    {
     "data": {
      "text/plain": [
       "'OK'"
      ]
     },
     "execution_count": 13,
     "metadata": {},
     "output_type": "execute_result"
    }
   ],
   "source": [
    "# Download the visdump files to a local folder\n",
    "# With the current api, we explicitly generate a tgz file on Cori then download and untar it.\n",
    "\n",
    "tarfile_name = 'data.tgz'\n",
    "nersc_tarfile = '{}/reshpc/{}'.format(scratch_folder, tarfile_name)\n",
    "nersc.make_tgzfile(nersc_folder, glob_pattern='*_mesh.*', tarfile=nersc_tarfile)\n",
    "\n",
    "# Create local data folder and download tar file\n",
    "local_folder = os.path.expanduser('~/.reshpc/data/{}'.format(datetime_code))\n",
    "if os.path.exists(local_folder):\n",
    "    shutil.rmtree(local_folder)\n",
    "os.makedirs(local_folder)\n",
    "nersc.download_file(nersc_tarfile, local_folder)\n"
   ]
  },
  {
   "cell_type": "code",
   "execution_count": 16,
   "metadata": {},
   "outputs": [],
   "source": [
    "# Expand tarfile\n",
    "import tarfile\n",
    "\n",
    "# tarfile_name = 'data.tgz'\n",
    "local_tarfile = os.path.join(local_folder, tarfile_name)\n",
    "tar = tarfile.open(local_tarfile)\n",
    "tar.extractall(local_folder)\n",
    "tar.close()\n",
    "\n",
    "# Optional\n",
    "# os.remove(local_tarfile)\n"
   ]
  },
  {
   "cell_type": "code",
   "execution_count": 17,
   "metadata": {},
   "outputs": [
    {
     "name": "stdout",
     "output_type": "stream",
     "text": [
      "data.tgz\n",
      "visdump_mesh.VisIt.xmf\n",
      "visdump_mesh.h5\n",
      "visdump_mesh.h5.0.xmf\n"
     ]
    }
   ],
   "source": [
    "# List downloaded files\n",
    "dirs = os.listdir(local_folder)\n",
    "dirs.sort()\n",
    "for file in dirs:\n",
    "    print(file)\n"
   ]
  },
  {
   "cell_type": "code",
   "execution_count": null,
   "metadata": {},
   "outputs": [],
   "source": []
  }
 ],
 "metadata": {
  "kernelspec": {
   "display_name": "Python 3",
   "language": "python",
   "name": "python3"
  },
  "language_info": {
   "codemirror_mode": {
    "name": "ipython",
    "version": 3
   },
   "file_extension": ".py",
   "mimetype": "text/x-python",
   "name": "python",
   "nbconvert_exporter": "python",
   "pygments_lexer": "ipython3",
   "version": "3.5.2"
  }
 },
 "nbformat": 4,
 "nbformat_minor": 2
}
