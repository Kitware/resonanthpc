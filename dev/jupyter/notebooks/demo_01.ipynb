{
 "cells": [
  {
   "cell_type": "code",
   "execution_count": 1,
   "metadata": {},
   "outputs": [
    {
     "name": "stdout",
     "output_type": "stream",
     "text": [
      "Working directory /home/john/projects/resonant-hpc/git/resonantrpc/dev/jupyter/notebooks/..\n"
     ]
    }
   ],
   "source": [
    "import os\n",
    "\n",
    "# Change working dir so that we can import local module\n",
    "working_dir = os.path.join(os.getcwd(), os.pardir)\n",
    "os.chdir(working_dir)\n",
    "from reshpc import nersc_interface as rn\n",
    "print('Working directory {}'.format(working_dir))"
   ]
  },
  {
   "cell_type": "code",
   "execution_count": 3,
   "metadata": {},
   "outputs": [
    {
     "name": "stdout",
     "output_type": "stream",
     "text": [
      "sending command...\n"
     ]
    },
    {
     "data": {
      "text/plain": [
       "'OK'"
      ]
     },
     "execution_count": 3,
     "metadata": {},
     "output_type": "execute_result"
    }
   ],
   "source": [
    "nersc = rn.NerscInterface()\n",
    "nersc.login()"
   ]
  },
  {
   "cell_type": "code",
   "execution_count": 4,
   "metadata": {},
   "outputs": [
    {
     "data": {
      "text/plain": [
       "'201021-114130'"
      ]
     },
     "execution_count": 4,
     "metadata": {},
     "output_type": "execute_result"
    }
   ],
   "source": [
    "# Generate new folder name yymmdd_hhmm\n",
    "import datetime\n",
    "now = datetime.datetime.now()\n",
    "datetime_code = now.strftime('%y%m%d-%H%M')\n",
    "datetime_code"
   ]
  },
  {
   "cell_type": "code",
   "execution_count": 5,
   "metadata": {},
   "outputs": [
    {
     "name": "stdout",
     "output_type": "stream",
     "text": [
      "sending command...\n"
     ]
    },
    {
     "data": {
      "text/plain": [
       "'/global/cscratch1/sd/johnt/reshpc/201021-114130'"
      ]
     },
     "execution_count": 5,
     "metadata": {},
     "output_type": "execute_result"
    }
   ],
   "source": [
    "# Generate path on Cori $SCRATCH folder\n",
    "scratch_folder = nersc.get_scratch_folder()\n",
    "nersc_folder = '{}/reshpc/demo01/{}'.format(scratch_folder, datetime_code)\n",
    "nersc_folder"
   ]
  },
  {
   "cell_type": "code",
   "execution_count": 6,
   "metadata": {},
   "outputs": [
    {
     "name": "stdout",
     "output_type": "stream",
     "text": [
      "sending command...\n"
     ]
    },
    {
     "data": {
      "text/plain": [
       "'OK'"
      ]
     },
     "execution_count": 6,
     "metadata": {},
     "output_type": "execute_result"
    }
   ],
   "source": [
    "nersc.make_folder(nersc_folder)"
   ]
  },
  {
   "cell_type": "code",
   "execution_count": 7,
   "metadata": {},
   "outputs": [
    {
     "name": "stdout",
     "output_type": "stream",
     "text": [
      "sending command...\n"
     ]
    },
    {
     "data": {
      "text/plain": [
       "'OK'"
      ]
     },
     "execution_count": 7,
     "metadata": {},
     "output_type": "execute_result"
    }
   ],
   "source": [
    "# Upload demo 01 baseline file\n",
    "xml_file = 'demo_01.xml'\n",
    "local_file = os.path.join(working_dir, 'data', xml_file)\n",
    "assert os.path.exists(local_file)\n",
    "\n",
    "nersc.upload_file(local_file, nersc_folder)"
   ]
  },
  {
   "cell_type": "code",
   "execution_count": 8,
   "metadata": {},
   "outputs": [],
   "source": [
    "# Specify SLURM script\n",
    "ats = '/project/projectdirs/m2398/ideas/ats/install/cori/ats-0.88-basic/RelWithDebInfo/PrgEnv-gnu-6.0.5/bin/ats'\n",
    "timeout_min = 5\n",
    "nodes = 1\n",
    "cores_per_node = 1\n",
    "\n",
    "slurm_commands = [\n",
    "    '#!/bin/bash',\n",
    "    '#SBATCH --account=m2398',\n",
    "    '#SBATCH --chdir={}'.format(nersc_folder),\n",
    "    '#SBATCH --partition=debug',\n",
    "    '#SBATCH --time=0:{}:0'.format(timeout_min),\n",
    "    '#SBATCH --nodes={}'.format(nodes),\n",
    "    '#SBATCH --tasks-per-node={}'.format(cores_per_node),\n",
    "    '#SBATCH --constraint=haswell',\n",
    "    'ulimit -s unlimited',\n",
    "    'srun {} --xml_file={}'.format(ats, xml_file),\n",
    "    ''\n",
    "]\n",
    "slurm_string = '\\n'.join(slurm_commands)"
   ]
  },
  {
   "cell_type": "code",
   "execution_count": 9,
   "metadata": {},
   "outputs": [
    {
     "name": "stdout",
     "output_type": "stream",
     "text": [
      "uploading slurm script...\n",
      "submitting job...\n",
      "{'error': '', 'status': 'OK', 'jobid': '35369711'}\n"
     ]
    }
   ],
   "source": [
    "# Submit job\n",
    "result = nersc.submit_job(slurm_string, nersc_folder)\n",
    "print(result)"
   ]
  },
  {
   "cell_type": "code",
   "execution_count": 10,
   "metadata": {},
   "outputs": [
    {
     "name": "stdout",
     "output_type": "stream",
     "text": [
      "{'user': 'johnt', 'nodes': '1', 'status': 'R', 'procs': '64', 'submittime': '2020-10-21T08:41:59', 'qos': 'debug_hsw', 'hostname': 'cori', 'timereq': '00:05:00', 'source': 'sacct', 'repo': 'm2398', 'queue': 'debug_hsw', 'memory': '', 'name': 'job.sbatch', 'timeuse': '00:04:16', 'jobid': '35369711'}\n",
      "Job Status: R\n"
     ]
    }
   ],
   "source": [
    "job_id = result.get('jobid')\n",
    "if job_id:\n",
    "    info = nersc.get_job_info(job_id)\n",
    "    print(info)\n",
    "    status = info.get('status')\n",
    "    print('Job Status: {}'.format(status))\n"
   ]
  },
  {
   "cell_type": "code",
   "execution_count": 12,
   "metadata": {},
   "outputs": [
    {
     "name": "stdout",
     "output_type": "stream",
     "text": [
      "CD\n"
     ]
    }
   ],
   "source": [
    "import time\n",
    "# Loop while status is pending, running, or completing\n",
    "# https://slurm.schedmd.com/squeue.html#lbAF is a list of status codes\n",
    "while status in ['PD', 'R', 'CG']:\n",
    "    time.sleep(5.0)\n",
    "    info = nersc.get_job_info(job_id)\n",
    "    status = info.get('status')\n",
    "    print(status)"
   ]
  },
  {
   "cell_type": "code",
   "execution_count": null,
   "metadata": {},
   "outputs": [],
   "source": []
  }
 ],
 "metadata": {
  "kernelspec": {
   "display_name": "Python 3",
   "language": "python",
   "name": "python3"
  },
  "language_info": {
   "codemirror_mode": {
    "name": "ipython",
    "version": 3
   },
   "file_extension": ".py",
   "mimetype": "text/x-python",
   "name": "python",
   "nbconvert_exporter": "python",
   "pygments_lexer": "ipython3",
   "version": "3.5.2"
  }
 },
 "nbformat": 4,
 "nbformat_minor": 2
}
