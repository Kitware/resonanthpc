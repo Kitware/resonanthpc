{
 "cells": [
  {
   "cell_type": "code",
   "execution_count": null,
   "metadata": {},
   "outputs": [],
   "source": [
    "import os\n",
    "\n",
    "# Change working dir so that we can import local module\n",
    "working_dir = os.path.join(os.getcwd(), os.pardir)\n",
    "os.chdir(working_dir)\n",
    "from reshpc import nersc_interface as rn"
   ]
  },
  {
   "cell_type": "code",
   "execution_count": null,
   "metadata": {},
   "outputs": [],
   "source": [
    "nersc = rn.NerscInterface()\n",
    "nersc.login()"
   ]
  },
  {
   "cell_type": "code",
   "execution_count": null,
   "metadata": {},
   "outputs": [],
   "source": [
    "# Generate new folder name yymmdd_hhmmss\n",
    "import datetime\n",
    "now = datetime.datetime.now()\n",
    "datetime_code = now.strftime('%y%m%d-%H%M%S')\n",
    "datetime_code"
   ]
  },
  {
   "cell_type": "code",
   "execution_count": null,
   "metadata": {},
   "outputs": [],
   "source": [
    "# Generate path on Cori $SCRATCH folder\n",
    "scratch_folder = nersc.get_scratch_folder()\n",
    "nersc_folder = '{}/reshpc/{}'.format(scratch_folder, datetime_code)\n",
    "nersc_folder"
   ]
  },
  {
   "cell_type": "code",
   "execution_count": null,
   "metadata": {},
   "outputs": [],
   "source": [
    "nersc.make_folder(nersc_folder)"
   ]
  },
  {
   "cell_type": "code",
   "execution_count": null,
   "metadata": {},
   "outputs": [],
   "source": [
    "# Upload demo 01 baseline file\n",
    "xml_file = 'demo_01.xml'\n",
    "local_file = os.path.join(working_dir, 'data', xml_file)\n",
    "assert os.path.exists(local_file)\n",
    "\n",
    "nersc.upload_file(local_file, nersc_folder)"
   ]
  },
  {
   "cell_type": "code",
   "execution_count": null,
   "metadata": {},
   "outputs": [],
   "source": [
    "# Specify SLURM script\n",
    "ats = '/project/projectdirs/m2398/ideas/ats/install/cori/ats-0.88-basic/RelWithDebInfo/PrgEnv-gnu-6.0.5/bin/ats'\n",
    "timeout_min = 5\n",
    "nodes = 1\n",
    "cores_per_node = 2\n",
    "\n",
    "slurm_commands = [\n",
    "    '#!/bin/bash',\n",
    "    '#SBATCH --chdir={}'.format(nersc_folder),\n",
    "    '#SBATCH --qos=debug',\n",
    "    '#SBATCH --time={}'.format(timeout_min),\n",
    "    '#SBATCH --nodes={}'.format(nodes),\n",
    "    '#SBATCH --tasks-per-node={}'.format(cores_per_node),\n",
    "    '#SBATCH --constraint=haswell',\n",
    "    'srun -C haswell {} --xml_file={}'.format(ats, xml_file)\n",
    "]\n",
    "slurm_string = '\\n'.join(slurm_commands)"
   ]
  },
  {
   "cell_type": "code",
   "execution_count": null,
   "metadata": {},
   "outputs": [],
   "source": [
    "# Submit job\n",
    "result = nersc.submit_job(slurm_string, nersc_folder)\n",
    "print(result)"
   ]
  },
  {
   "cell_type": "code",
   "execution_count": null,
   "metadata": {},
   "outputs": [],
   "source": [
    "job_id = result.get('jobid')\n",
    "if job_id:\n",
    "    status = nersc.get_job_status(job_id)\n",
    "    print(status)\n"
   ]
  },
  {
   "cell_type": "code",
   "execution_count": null,
   "metadata": {},
   "outputs": [],
   "source": [
    "job_info = nersc.get_job_info(job_id, verbose=True)\n",
    "print(job_info)\n",
    "status = job_info.get('status')\n",
    "print('Status {}'.format(status))"
   ]
  },
  {
   "cell_type": "code",
   "execution_count": null,
   "metadata": {},
   "outputs": [],
   "source": [
    "import time\n",
    "# Loop while status is pending, running, or completing\n",
    "while status not in ['PD', 'R', 'CG']:\n",
    "    time.sleep(5.0)\n",
    "    info = nersc.get_job_info(job_id)\n",
    "    status = info.get('status')\n",
    "    print(status)"
   ]
  }
 ],
 "metadata": {
  "kernelspec": {
   "display_name": "Python 3",
   "language": "python",
   "name": "python3"
  },
  "language_info": {
   "codemirror_mode": {
    "name": "ipython",
    "version": 3
   },
   "file_extension": ".py",
   "mimetype": "text/x-python",
   "name": "python",
   "nbconvert_exporter": "python",
   "pygments_lexer": "ipython3",
   "version": "3.5.2"
  }
 },
 "nbformat": 4,
 "nbformat_minor": 2
}
