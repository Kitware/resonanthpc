{
 "cells": [
  {
   "cell_type": "code",
   "execution_count": null,
   "metadata": {},
   "outputs": [],
   "source": [
    "\"\"\"Log into nersc account and get newt session id.\"\"\"\n",
    "\n",
    "import getpass\n",
    "import os\n",
    "import sys\n",
    "\n",
    "import requests\n",
    "\n",
    "nersc_url = 'https://newt.nersc.gov/newt'\n",
    "\n",
    "\n",
    "user = input('Username: ')\n",
    "password = getpass.getpass(prompt='Password: ')\n",
    "otp = input('Enter one time password (for MFA) ')\n",
    "# print('ready')\n",
    "\n",
    "credentials = {\n",
    "    'username': user,\n",
    "    'password': password + str(otp)\n",
    "}\n",
    "\n",
    "url = '{}/login/'.format(nersc_url)\n",
    "r = requests.post(url, data=credentials)\n",
    "r.raise_for_status()\n",
    "\n",
    "js = r.json()\n",
    "if not js.get('auth'):\n",
    "    raise RuntimeError('NOT authenticated: ', r.text)\n",
    "\n",
    "# (else)\n",
    "session_id = js.get('newt_sessionid')\n",
    "print('newt_sessionid: {}'.format(session_id))\n",
    "\n",
    "output_filename = os.path.expanduser('~/.newt_sessionid')\n",
    "with open(output_filename, 'w') as f:\n",
    "    f.write(session_id)\n",
    "    print('Wrote {}'.format(output_filename))\n",
    "\n",
    "# Sanity check -- get user's scratch directory\n",
    "cookies = dict(newt_sessionid=session_id)\n",
    "data = {\n",
    "    'executable': 'echo $SCRATCH',\n",
    "    'loginenv': 'true'\n",
    "}\n",
    "machine = 'cori'\n",
    "url = '%s/command/%s' % (nersc_url, machine)\n",
    "r = requests.post(url, data=data, cookies=cookies)\n",
    "r.raise_for_status()\n",
    "print(r.json())\n"
   ]
  },
  {
   "cell_type": "code",
   "execution_count": null,
   "metadata": {},
   "outputs": [],
   "source": []
  }
 ],
 "metadata": {
  "kernelspec": {
   "display_name": "Python 3",
   "language": "python",
   "name": "python3"
  },
  "language_info": {
   "codemirror_mode": {
    "name": "ipython",
    "version": 3
   },
   "file_extension": ".py",
   "mimetype": "text/x-python",
   "name": "python",
   "nbconvert_exporter": "python",
   "pygments_lexer": "ipython3",
   "version": "3.5.2"
  }
 },
 "nbformat": 4,
 "nbformat_minor": 2
}
