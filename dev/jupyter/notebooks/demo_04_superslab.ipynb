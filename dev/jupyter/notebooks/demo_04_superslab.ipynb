{
 "cells": [
  {
   "cell_type": "markdown",
   "metadata": {},
   "source": [
    "# Run ATS Demo 04 Superslab on NERSC (Cori)\n",
    "\n",
    "## Before running this notebook\n",
    "\n",
    "1. You must first **use the nersc_login.ipynb notebook to login to NERSC**, which saves a \"NEWT session id\" to your home directory (`~/.newt_sessionid.txt`). That file is read in when using this notebook. The session id typically expires every 12-14 days.\n",
    "\n",
    "2. The first code cell in this noteboook sets the working directory. For this to work, you **must restart the kernel each time you run the first code cell**."
   ]
  },
  {
   "cell_type": "code",
   "execution_count": 1,
   "metadata": {},
   "outputs": [
    {
     "name": "stdout",
     "output_type": "stream",
     "text": [
      "Working directory /home/john/projects/resonant-hpc/git/resonantrpc/dev/jupyter\n"
     ]
    }
   ],
   "source": [
    "import os\n",
    "\n",
    "# Change working dir so that we can import local module\n",
    "# The following code works for me but might not be portable\n",
    "# And you MUST RESTART THE KERNEL BEFORE RUNNING THIS CELL!\n",
    "working_dir = os.path.abspath(os.path.join(os.getcwd(), os.pardir))\n",
    "os.chdir(working_dir)\n",
    "print('Working directory {}'.format(working_dir))\n",
    "from reshpc import nersc_interface as rn\n"
   ]
  },
  {
   "cell_type": "code",
   "execution_count": 2,
   "metadata": {},
   "outputs": [
    {
     "name": "stdout",
     "output_type": "stream",
     "text": [
      "sending command...\n"
     ]
    },
    {
     "data": {
      "text/plain": [
       "'OK'"
      ]
     },
     "execution_count": 2,
     "metadata": {},
     "output_type": "execute_result"
    }
   ],
   "source": [
    "nersc = rn.NerscInterface()\n",
    "nersc.login()"
   ]
  },
  {
   "cell_type": "code",
   "execution_count": 3,
   "metadata": {},
   "outputs": [
    {
     "name": "stdout",
     "output_type": "stream",
     "text": [
      "sending command...\n"
     ]
    },
    {
     "data": {
      "text/plain": [
       "'/global/cscratch1/sd/johnt'"
      ]
     },
     "execution_count": 3,
     "metadata": {},
     "output_type": "execute_result"
    }
   ],
   "source": [
    "# Get path to Cori $SCRATCH folder\n",
    "scratch_folder = nersc.get_scratch_folder()\n",
    "scratch_folder"
   ]
  },
  {
   "cell_type": "code",
   "execution_count": 4,
   "metadata": {},
   "outputs": [
    {
     "name": "stdout",
     "output_type": "stream",
     "text": [
      "sending command...\n"
     ]
    },
    {
     "data": {
      "text/plain": [
       "'OK'"
      ]
     },
     "execution_count": 4,
     "metadata": {},
     "output_type": "execute_result"
    }
   ],
   "source": [
    "# Make sure root folder for superslab is on Cori\n",
    "remote_root_folder = '{}/reshpc/demo04-superslab'.format(scratch_folder)\n",
    "nersc.make_folder(remote_root_folder)"
   ]
  },
  {
   "cell_type": "code",
   "execution_count": 5,
   "metadata": {},
   "outputs": [
    {
     "name": "stdout",
     "output_type": "stream",
     "text": [
      "sending command...\n",
      "exists on Cori? True\n"
     ]
    }
   ],
   "source": [
    "# Check if model file is in the root folder\n",
    "model_filename = 'super_slab.exo'\n",
    "local_model_path = os.path.join(working_dir, os.pardir, 'cmb', 'simulation-workflows', 'tests', 'test_demos', model_filename)\n",
    "assert os.path.exists(local_model_path), 'model file not found: {}'.format(local_model_path)\n",
    "\n",
    "remote_model_path = '{}/{}'.format(remote_root_folder, model_filename)\n",
    "exists = nersc.file_exists(remote_model_path)\n",
    "print('exists on Cori? {}'.format(exists))"
   ]
  },
  {
   "cell_type": "code",
   "execution_count": 6,
   "metadata": {},
   "outputs": [
    {
     "name": "stdout",
     "output_type": "stream",
     "text": [
      "OK\n"
     ]
    }
   ],
   "source": [
    "# If the file doesn't exist on Cori, upload it now (1.1 MB)\n",
    "if not exists:\n",
    "    nersc.upload_file(local_model_path, remote_root_folder)\n",
    "    print('Done')\n",
    "else:\n",
    "    print('OK')"
   ]
  },
  {
   "cell_type": "code",
   "execution_count": 7,
   "metadata": {},
   "outputs": [
    {
     "name": "stdout",
     "output_type": "stream",
     "text": [
      "job_folder /global/cscratch1/sd/johnt/reshpc/demo04-superslab/201026-1545\n",
      "sending command...\n"
     ]
    },
    {
     "data": {
      "text/plain": [
       "'OK'"
      ]
     },
     "execution_count": 7,
     "metadata": {},
     "output_type": "execute_result"
    }
   ],
   "source": [
    "# Generate new job folder, name yymmdd_hhmm\n",
    "import datetime\n",
    "now = datetime.datetime.now()\n",
    "datetime_code = now.strftime('%y%m%d-%H%M')\n",
    "datetime_code\n",
    "\n",
    "job_folder = '{}/{}'.format(remote_root_folder, datetime_code)\n",
    "print('job_folder {}'.format(job_folder))\n",
    "\n",
    "nersc.make_folder(job_folder)"
   ]
  },
  {
   "cell_type": "code",
   "execution_count": 8,
   "metadata": {},
   "outputs": [
    {
     "name": "stdout",
     "output_type": "stream",
     "text": [
      "sending command...\n"
     ]
    },
    {
     "data": {
      "text/plain": [
       "'OK'"
      ]
     },
     "execution_count": 8,
     "metadata": {},
     "output_type": "execute_result"
    }
   ],
   "source": [
    "# Upload ats spec file file\n",
    "xml_file = 'demo_04_superslab.xml'\n",
    "local_file = os.path.join(working_dir, 'data', xml_file)\n",
    "assert os.path.exists(local_file)\n",
    "\n",
    "nersc.upload_file(local_file, job_folder)"
   ]
  },
  {
   "cell_type": "code",
   "execution_count": 9,
   "metadata": {},
   "outputs": [
    {
     "name": "stdout",
     "output_type": "stream",
     "text": [
      "#!/bin/bash\n",
      "#SBATCH --account=m2398\n",
      "#SBATCH --chdir=/global/cscratch1/sd/johnt/reshpc/demo04-superslab/201026-1545\n",
      "#SBATCH --partition=debug\n",
      "#SBATCH --time=0:15:0\n",
      "#SBATCH --nodes=2\n",
      "#SBATCH --tasks-per-node=2\n",
      "#SBATCH --constraint=haswell\n",
      "ulimit -s unlimited\n",
      "srun /project/projectdirs/m2398/ideas/ats/install/cori/ats-0.88-basic/RelWithDebInfo/PrgEnv-gnu-6.0.5/bin/ats --xml_file=demo_04_superslab.xml\n",
      "\n"
     ]
    }
   ],
   "source": [
    "# Specify Slurm script\n",
    "ats = '/project/projectdirs/m2398/ideas/ats/install/cori/ats-0.88-basic/RelWithDebInfo/PrgEnv-gnu-6.0.5/bin/ats'\n",
    "timeout_min = 15\n",
    "nodes = 2\n",
    "cores_per_node = 2\n",
    "\n",
    "slurm_commands = [\n",
    "    '#!/bin/bash',\n",
    "    '#SBATCH --account=m2398',\n",
    "    '#SBATCH --chdir={}'.format(job_folder),\n",
    "    '#SBATCH --partition=debug',\n",
    "    '#SBATCH --time=0:{}:0'.format(timeout_min),\n",
    "    '#SBATCH --nodes={}'.format(nodes),\n",
    "    '#SBATCH --tasks-per-node={}'.format(cores_per_node),\n",
    "    '#SBATCH --constraint=haswell',\n",
    "    'ulimit -s unlimited',\n",
    "    'srun {} --xml_file={}'.format(ats, xml_file),\n",
    "    ''\n",
    "]\n",
    "slurm_string = '\\n'.join(slurm_commands)\n",
    "print(slurm_string)"
   ]
  },
  {
   "cell_type": "code",
   "execution_count": 10,
   "metadata": {},
   "outputs": [
    {
     "name": "stdout",
     "output_type": "stream",
     "text": [
      "uploading slurm script...\n",
      "submitting job...\n",
      "{'status': 'OK', 'error': '', 'jobid': '35534891'}\n"
     ]
    }
   ],
   "source": [
    "# Submit job\n",
    "result = nersc.submit_job(slurm_string, job_folder)\n",
    "print(result)"
   ]
  },
  {
   "cell_type": "code",
   "execution_count": 13,
   "metadata": {},
   "outputs": [
    {
     "name": "stdout",
     "output_type": "stream",
     "text": [
      "sending command...\n",
      "Job State: CD (Completed)\n"
     ]
    }
   ],
   "source": [
    "# Execute this cell until the job state is complete,\n",
    "# generally this means the job state is NOT one of \"PD\", \"R\", \"CG\".\n",
    "# All of the Slurm job state codes are listed at https://slurm.schedmd.com/squeue.html#lbAG\n",
    "\n",
    "job_id = result.get('jobid')\n",
    "if job_id:\n",
    "    info = nersc.get_job_info(job_id, verbose=True)\n",
    "#     print(info)\n",
    "    state = info.get('status')\n",
    "    label = nersc.job_state_label(state)\n",
    "    print('Job State: {} ({})'.format(state, label))\n",
    "    if state in ['PD', 'R', 'CG']:\n",
    "        print('NOT done => continue checking')\n",
    "else:\n",
    "    print('Job was not submitted - go back and check for error in previous cell')"
   ]
  },
  {
   "cell_type": "code",
   "execution_count": 14,
   "metadata": {},
   "outputs": [
    {
     "name": "stdout",
     "output_type": "stream",
     "text": [
      "sending command...\n",
      "    9291  visdump_data.VisIt.xmf\n",
      "130088040  visdump_data.h5\n",
      "    4283  visdump_data.h5.0.xmf\n",
      "    4315  visdump_data.h5.100.xmf\n",
      "    4315  visdump_data.h5.101.xmf\n",
      "    4315  visdump_data.h5.102.xmf\n",
      "    4315  visdump_data.h5.103.xmf\n",
      "    4315  visdump_data.h5.104.xmf\n",
      "    4315  visdump_data.h5.105.xmf\n",
      "    4315  visdump_data.h5.106.xmf\n",
      "    4315  visdump_data.h5.107.xmf\n",
      "    4315  visdump_data.h5.108.xmf\n",
      "    4315  visdump_data.h5.109.xmf\n",
      "    4299  visdump_data.h5.11.xmf\n",
      "    4315  visdump_data.h5.110.xmf\n",
      "    4315  visdump_data.h5.111.xmf\n",
      "    4315  visdump_data.h5.112.xmf\n",
      "    4315  visdump_data.h5.113.xmf\n",
      "    4315  visdump_data.h5.114.xmf\n",
      "    4315  visdump_data.h5.115.xmf\n",
      "    4315  visdump_data.h5.116.xmf\n",
      "    4315  visdump_data.h5.117.xmf\n",
      "    4315  visdump_data.h5.118.xmf\n",
      "    4315  visdump_data.h5.119.xmf\n",
      "    4315  visdump_data.h5.120.xmf\n",
      "    4315  visdump_data.h5.121.xmf\n",
      "    4315  visdump_data.h5.122.xmf\n",
      "    4315  visdump_data.h5.123.xmf\n",
      "    4315  visdump_data.h5.124.xmf\n",
      "    4315  visdump_data.h5.125.xmf\n",
      "    4315  visdump_data.h5.126.xmf\n",
      "    4315  visdump_data.h5.127.xmf\n",
      "    4315  visdump_data.h5.128.xmf\n",
      "    4315  visdump_data.h5.129.xmf\n",
      "    4299  visdump_data.h5.13.xmf\n",
      "    4315  visdump_data.h5.130.xmf\n",
      "    4315  visdump_data.h5.131.xmf\n",
      "    4315  visdump_data.h5.132.xmf\n",
      "    4315  visdump_data.h5.133.xmf\n",
      "    4315  visdump_data.h5.134.xmf\n",
      "    4315  visdump_data.h5.135.xmf\n",
      "    4299  visdump_data.h5.14.xmf\n",
      "    4299  visdump_data.h5.15.xmf\n",
      "    4299  visdump_data.h5.16.xmf\n",
      "    4299  visdump_data.h5.17.xmf\n",
      "    4299  visdump_data.h5.18.xmf\n",
      "    4299  visdump_data.h5.19.xmf\n",
      "    4299  visdump_data.h5.21.xmf\n",
      "    4299  visdump_data.h5.23.xmf\n",
      "    4299  visdump_data.h5.25.xmf\n",
      "    4299  visdump_data.h5.27.xmf\n",
      "    4299  visdump_data.h5.28.xmf\n",
      "    4299  visdump_data.h5.32.xmf\n",
      "    4299  visdump_data.h5.35.xmf\n",
      "    4299  visdump_data.h5.37.xmf\n",
      "    4299  visdump_data.h5.38.xmf\n",
      "    4299  visdump_data.h5.39.xmf\n",
      "    4299  visdump_data.h5.40.xmf\n",
      "    4299  visdump_data.h5.41.xmf\n",
      "    4299  visdump_data.h5.42.xmf\n",
      "    4299  visdump_data.h5.43.xmf\n",
      "    4299  visdump_data.h5.44.xmf\n",
      "    4299  visdump_data.h5.45.xmf\n",
      "    4299  visdump_data.h5.47.xmf\n",
      "    4299  visdump_data.h5.49.xmf\n",
      "    4299  visdump_data.h5.51.xmf\n",
      "    4299  visdump_data.h5.53.xmf\n",
      "    4299  visdump_data.h5.55.xmf\n",
      "    4299  visdump_data.h5.56.xmf\n",
      "    4299  visdump_data.h5.58.xmf\n",
      "    4299  visdump_data.h5.60.xmf\n",
      "    4299  visdump_data.h5.62.xmf\n",
      "    4299  visdump_data.h5.64.xmf\n",
      "    4299  visdump_data.h5.66.xmf\n",
      "    4299  visdump_data.h5.67.xmf\n",
      "    4299  visdump_data.h5.69.xmf\n",
      "    4299  visdump_data.h5.71.xmf\n",
      "    4299  visdump_data.h5.73.xmf\n",
      "    4299  visdump_data.h5.75.xmf\n",
      "    4299  visdump_data.h5.76.xmf\n",
      "    4299  visdump_data.h5.77.xmf\n",
      "    4299  visdump_data.h5.78.xmf\n",
      "    4299  visdump_data.h5.79.xmf\n",
      "    4299  visdump_data.h5.80.xmf\n",
      "    4299  visdump_data.h5.81.xmf\n",
      "    4299  visdump_data.h5.82.xmf\n",
      "    4299  visdump_data.h5.83.xmf\n",
      "    4299  visdump_data.h5.84.xmf\n",
      "    4299  visdump_data.h5.85.xmf\n",
      "    4299  visdump_data.h5.86.xmf\n",
      "    4299  visdump_data.h5.87.xmf\n",
      "    4299  visdump_data.h5.88.xmf\n",
      "    4299  visdump_data.h5.89.xmf\n",
      "    4299  visdump_data.h5.90.xmf\n",
      "    4299  visdump_data.h5.91.xmf\n",
      "    4299  visdump_data.h5.92.xmf\n",
      "    4299  visdump_data.h5.93.xmf\n",
      "    4299  visdump_data.h5.94.xmf\n",
      "    4299  visdump_data.h5.95.xmf\n",
      "    4299  visdump_data.h5.96.xmf\n",
      "    4299  visdump_data.h5.97.xmf\n",
      "    4299  visdump_data.h5.98.xmf\n",
      "    4299  visdump_data.h5.99.xmf\n",
      "     255  visdump_mesh.VisIt.xmf\n",
      "  976440  visdump_mesh.h5\n",
      "     602  visdump_mesh.h5.0.xmf\n",
      "   10099  visdump_surface_data.VisIt.xmf\n",
      " 2500464  visdump_surface_data.h5\n",
      "    5645  visdump_surface_data.h5.0.xmf\n",
      "    5685  visdump_surface_data.h5.100.xmf\n",
      "    5685  visdump_surface_data.h5.101.xmf\n",
      "    5685  visdump_surface_data.h5.102.xmf\n",
      "    5685  visdump_surface_data.h5.103.xmf\n",
      "    5685  visdump_surface_data.h5.104.xmf\n",
      "    5685  visdump_surface_data.h5.105.xmf\n",
      "    5685  visdump_surface_data.h5.106.xmf\n",
      "    5685  visdump_surface_data.h5.107.xmf\n",
      "    5685  visdump_surface_data.h5.108.xmf\n",
      "    5685  visdump_surface_data.h5.109.xmf\n",
      "    5665  visdump_surface_data.h5.11.xmf\n",
      "    5685  visdump_surface_data.h5.110.xmf\n",
      "    5685  visdump_surface_data.h5.111.xmf\n",
      "    5685  visdump_surface_data.h5.112.xmf\n",
      "    5685  visdump_surface_data.h5.113.xmf\n",
      "    5685  visdump_surface_data.h5.114.xmf\n",
      "    5685  visdump_surface_data.h5.115.xmf\n",
      "    5685  visdump_surface_data.h5.116.xmf\n",
      "    5685  visdump_surface_data.h5.117.xmf\n",
      "    5685  visdump_surface_data.h5.118.xmf\n",
      "    5685  visdump_surface_data.h5.119.xmf\n",
      "    5685  visdump_surface_data.h5.120.xmf\n",
      "    5685  visdump_surface_data.h5.121.xmf\n",
      "    5685  visdump_surface_data.h5.122.xmf\n",
      "    5685  visdump_surface_data.h5.123.xmf\n",
      "    5685  visdump_surface_data.h5.124.xmf\n",
      "    5685  visdump_surface_data.h5.125.xmf\n",
      "    5685  visdump_surface_data.h5.126.xmf\n",
      "    5685  visdump_surface_data.h5.127.xmf\n",
      "    5685  visdump_surface_data.h5.128.xmf\n",
      "    5685  visdump_surface_data.h5.129.xmf\n",
      "    5665  visdump_surface_data.h5.13.xmf\n",
      "    5685  visdump_surface_data.h5.130.xmf\n",
      "    5685  visdump_surface_data.h5.131.xmf\n",
      "    5685  visdump_surface_data.h5.132.xmf\n",
      "    5685  visdump_surface_data.h5.133.xmf\n",
      "    5685  visdump_surface_data.h5.134.xmf\n",
      "    5685  visdump_surface_data.h5.135.xmf\n",
      "    5665  visdump_surface_data.h5.14.xmf\n",
      "    5665  visdump_surface_data.h5.15.xmf\n",
      "    5665  visdump_surface_data.h5.16.xmf\n",
      "    5665  visdump_surface_data.h5.17.xmf\n",
      "    5665  visdump_surface_data.h5.18.xmf\n",
      "    5665  visdump_surface_data.h5.19.xmf\n",
      "    5665  visdump_surface_data.h5.21.xmf\n",
      "    5665  visdump_surface_data.h5.23.xmf\n",
      "    5665  visdump_surface_data.h5.25.xmf\n",
      "    5665  visdump_surface_data.h5.27.xmf\n",
      "    5665  visdump_surface_data.h5.28.xmf\n",
      "    5665  visdump_surface_data.h5.32.xmf\n",
      "    5665  visdump_surface_data.h5.35.xmf\n",
      "    5665  visdump_surface_data.h5.37.xmf\n",
      "    5665  visdump_surface_data.h5.38.xmf\n",
      "    5665  visdump_surface_data.h5.39.xmf\n",
      "    5665  visdump_surface_data.h5.40.xmf\n",
      "    5665  visdump_surface_data.h5.41.xmf\n",
      "    5665  visdump_surface_data.h5.42.xmf\n",
      "    5665  visdump_surface_data.h5.43.xmf\n",
      "    5665  visdump_surface_data.h5.44.xmf\n",
      "    5665  visdump_surface_data.h5.45.xmf\n",
      "    5665  visdump_surface_data.h5.47.xmf\n",
      "    5665  visdump_surface_data.h5.49.xmf\n",
      "    5665  visdump_surface_data.h5.51.xmf\n",
      "    5665  visdump_surface_data.h5.53.xmf\n",
      "    5665  visdump_surface_data.h5.55.xmf\n",
      "    5665  visdump_surface_data.h5.56.xmf\n",
      "    5665  visdump_surface_data.h5.58.xmf\n",
      "    5665  visdump_surface_data.h5.60.xmf\n",
      "    5665  visdump_surface_data.h5.62.xmf\n",
      "    5665  visdump_surface_data.h5.64.xmf\n",
      "    5665  visdump_surface_data.h5.66.xmf\n",
      "    5665  visdump_surface_data.h5.67.xmf\n",
      "    5665  visdump_surface_data.h5.69.xmf\n",
      "    5665  visdump_surface_data.h5.71.xmf\n",
      "    5665  visdump_surface_data.h5.73.xmf\n",
      "    5665  visdump_surface_data.h5.75.xmf\n",
      "    5665  visdump_surface_data.h5.76.xmf\n",
      "    5665  visdump_surface_data.h5.77.xmf\n",
      "    5665  visdump_surface_data.h5.78.xmf\n",
      "    5665  visdump_surface_data.h5.79.xmf\n",
      "    5665  visdump_surface_data.h5.80.xmf\n",
      "    5665  visdump_surface_data.h5.81.xmf\n",
      "    5665  visdump_surface_data.h5.82.xmf\n",
      "    5665  visdump_surface_data.h5.83.xmf\n",
      "    5665  visdump_surface_data.h5.84.xmf\n",
      "    5665  visdump_surface_data.h5.85.xmf\n",
      "    5665  visdump_surface_data.h5.86.xmf\n",
      "    5665  visdump_surface_data.h5.87.xmf\n",
      "    5665  visdump_surface_data.h5.88.xmf\n",
      "    5665  visdump_surface_data.h5.89.xmf\n",
      "    5665  visdump_surface_data.h5.90.xmf\n",
      "    5665  visdump_surface_data.h5.91.xmf\n",
      "    5665  visdump_surface_data.h5.92.xmf\n",
      "    5665  visdump_surface_data.h5.93.xmf\n",
      "    5665  visdump_surface_data.h5.94.xmf\n",
      "    5665  visdump_surface_data.h5.95.xmf\n",
      "    5665  visdump_surface_data.h5.96.xmf\n",
      "    5665  visdump_surface_data.h5.97.xmf\n",
      "    5665  visdump_surface_data.h5.98.xmf\n",
      "    5665  visdump_surface_data.h5.99.xmf\n",
      "     263  visdump_surface_mesh.VisIt.xmf\n",
      "   13240  visdump_surface_mesh.h5\n",
      "     612  visdump_surface_mesh.h5.0.xmf\n"
     ]
    }
   ],
   "source": [
    "# Once the job is done, list the contents of the NERSC folder\n",
    "for item in nersc.list_folder(job_folder, glob_pattern='visdump_*'):\n",
    "    name = item.get('name')\n",
    "    size = int(item.get('size', 0))\n",
    "    row = '{:8}  {}'.format(size, name)\n",
    "    print(row)"
   ]
  },
  {
   "cell_type": "code",
   "execution_count": 15,
   "metadata": {},
   "outputs": [
    {
     "name": "stdout",
     "output_type": "stream",
     "text": [
      "sending command...\n",
      "Using local folder /home/john/.reshpc/data/201026-1545\n",
      "sending command...\n"
     ]
    },
    {
     "data": {
      "text/plain": [
       "'OK'"
      ]
     },
     "execution_count": 15,
     "metadata": {},
     "output_type": "execute_result"
    }
   ],
   "source": [
    "# Download the visdump files to a local folder\n",
    "# With the current api, we explicitly generate a tgz file on Cori then download and untar it.\n",
    "\n",
    "tarfile_name = 'visdump.tgz'\n",
    "nersc_tarfile = '{}/reshpc/{}'.format(scratch_folder, tarfile_name)\n",
    "nersc.make_tgzfile(job_folder, glob_pattern='visdump_*', tarfile=nersc_tarfile)\n",
    "\n",
    "# Create local data folder and download tar file\n",
    "local_folder = os.path.expanduser('~/.reshpc/data/{}'.format(datetime_code))\n",
    "print('Using local folder {}'.format(local_folder))\n",
    "if os.path.exists(local_folder):\n",
    "    shutil.rmtree(local_folder)\n",
    "os.makedirs(local_folder)\n",
    "nersc.download_file(nersc_tarfile, local_folder)\n"
   ]
  },
  {
   "cell_type": "code",
   "execution_count": 16,
   "metadata": {},
   "outputs": [],
   "source": [
    "# Expand tarfile\n",
    "import tarfile\n",
    "\n",
    "# tarfile_name = 'data.tgz'\n",
    "local_tarfile = os.path.join(local_folder, tarfile_name)\n",
    "tar = tarfile.open(local_tarfile)\n",
    "tar.extractall(local_folder)\n",
    "tar.close()\n",
    "\n",
    "# Optional\n",
    "# os.remove(local_tarfile)\n"
   ]
  },
  {
   "cell_type": "code",
   "execution_count": 18,
   "metadata": {},
   "outputs": [
    {
     "name": "stdout",
     "output_type": "stream",
     "text": [
      "visdump.tgz\n",
      "visdump_data.VisIt.xmf\n",
      "visdump_data.h5\n",
      "visdump_data.h5.0.xmf\n",
      "visdump_data.h5.100.xmf\n",
      "visdump_data.h5.101.xmf\n",
      "visdump_data.h5.102.xmf\n",
      "visdump_data.h5.103.xmf\n",
      "visdump_data.h5.104.xmf\n",
      "visdump_data.h5.105.xmf\n",
      "visdump_data.h5.106.xmf\n",
      "visdump_data.h5.107.xmf\n",
      "visdump_data.h5.108.xmf\n",
      "visdump_data.h5.109.xmf\n",
      "visdump_data.h5.11.xmf\n",
      "visdump_data.h5.110.xmf\n",
      "visdump_data.h5.111.xmf\n",
      "visdump_data.h5.112.xmf\n",
      "visdump_data.h5.113.xmf\n",
      "visdump_data.h5.114.xmf\n",
      "visdump_data.h5.115.xmf\n",
      "visdump_data.h5.116.xmf\n",
      "visdump_data.h5.117.xmf\n",
      "visdump_data.h5.118.xmf\n",
      "visdump_data.h5.119.xmf\n",
      "visdump_data.h5.120.xmf\n",
      "visdump_data.h5.121.xmf\n",
      "visdump_data.h5.122.xmf\n",
      "visdump_data.h5.123.xmf\n",
      "visdump_data.h5.124.xmf\n",
      "visdump_data.h5.125.xmf\n",
      "visdump_data.h5.126.xmf\n",
      "visdump_data.h5.127.xmf\n",
      "visdump_data.h5.128.xmf\n",
      "visdump_data.h5.129.xmf\n",
      "visdump_data.h5.13.xmf\n",
      "visdump_data.h5.130.xmf\n",
      "visdump_data.h5.131.xmf\n",
      "visdump_data.h5.132.xmf\n",
      "visdump_data.h5.133.xmf\n",
      "visdump_data.h5.134.xmf\n",
      "visdump_data.h5.135.xmf\n",
      "visdump_data.h5.14.xmf\n",
      "visdump_data.h5.15.xmf\n",
      "visdump_data.h5.16.xmf\n",
      "visdump_data.h5.17.xmf\n",
      "visdump_data.h5.18.xmf\n",
      "visdump_data.h5.19.xmf\n",
      "visdump_data.h5.21.xmf\n",
      "visdump_data.h5.23.xmf\n",
      "visdump_data.h5.25.xmf\n",
      "visdump_data.h5.27.xmf\n",
      "visdump_data.h5.28.xmf\n",
      "visdump_data.h5.32.xmf\n",
      "visdump_data.h5.35.xmf\n",
      "visdump_data.h5.37.xmf\n",
      "visdump_data.h5.38.xmf\n",
      "visdump_data.h5.39.xmf\n",
      "visdump_data.h5.40.xmf\n",
      "visdump_data.h5.41.xmf\n",
      "visdump_data.h5.42.xmf\n",
      "visdump_data.h5.43.xmf\n",
      "visdump_data.h5.44.xmf\n",
      "visdump_data.h5.45.xmf\n",
      "visdump_data.h5.47.xmf\n",
      "visdump_data.h5.49.xmf\n",
      "visdump_data.h5.51.xmf\n",
      "visdump_data.h5.53.xmf\n",
      "visdump_data.h5.55.xmf\n",
      "visdump_data.h5.56.xmf\n",
      "visdump_data.h5.58.xmf\n",
      "visdump_data.h5.60.xmf\n",
      "visdump_data.h5.62.xmf\n",
      "visdump_data.h5.64.xmf\n",
      "visdump_data.h5.66.xmf\n",
      "visdump_data.h5.67.xmf\n",
      "visdump_data.h5.69.xmf\n",
      "visdump_data.h5.71.xmf\n",
      "visdump_data.h5.73.xmf\n",
      "visdump_data.h5.75.xmf\n",
      "visdump_data.h5.76.xmf\n",
      "visdump_data.h5.77.xmf\n",
      "visdump_data.h5.78.xmf\n",
      "visdump_data.h5.79.xmf\n",
      "visdump_data.h5.80.xmf\n",
      "visdump_data.h5.81.xmf\n",
      "visdump_data.h5.82.xmf\n",
      "visdump_data.h5.83.xmf\n",
      "visdump_data.h5.84.xmf\n",
      "visdump_data.h5.85.xmf\n",
      "visdump_data.h5.86.xmf\n",
      "visdump_data.h5.87.xmf\n",
      "visdump_data.h5.88.xmf\n",
      "visdump_data.h5.89.xmf\n",
      "visdump_data.h5.90.xmf\n",
      "visdump_data.h5.91.xmf\n",
      "visdump_data.h5.92.xmf\n",
      "visdump_data.h5.93.xmf\n",
      "visdump_data.h5.94.xmf\n",
      "visdump_data.h5.95.xmf\n",
      "visdump_data.h5.96.xmf\n",
      "visdump_data.h5.97.xmf\n",
      "visdump_data.h5.98.xmf\n",
      "visdump_data.h5.99.xmf\n",
      "visdump_mesh.VisIt.xmf\n",
      "visdump_mesh.h5\n",
      "visdump_mesh.h5.0.xmf\n",
      "visdump_surface_data.VisIt.xmf\n",
      "visdump_surface_data.h5\n",
      "visdump_surface_data.h5.0.xmf\n",
      "visdump_surface_data.h5.100.xmf\n",
      "visdump_surface_data.h5.101.xmf\n",
      "visdump_surface_data.h5.102.xmf\n",
      "visdump_surface_data.h5.103.xmf\n",
      "visdump_surface_data.h5.104.xmf\n",
      "visdump_surface_data.h5.105.xmf\n",
      "visdump_surface_data.h5.106.xmf\n",
      "visdump_surface_data.h5.107.xmf\n",
      "visdump_surface_data.h5.108.xmf\n",
      "visdump_surface_data.h5.109.xmf\n",
      "visdump_surface_data.h5.11.xmf\n",
      "visdump_surface_data.h5.110.xmf\n",
      "visdump_surface_data.h5.111.xmf\n",
      "visdump_surface_data.h5.112.xmf\n",
      "visdump_surface_data.h5.113.xmf\n",
      "visdump_surface_data.h5.114.xmf\n",
      "visdump_surface_data.h5.115.xmf\n",
      "visdump_surface_data.h5.116.xmf\n",
      "visdump_surface_data.h5.117.xmf\n",
      "visdump_surface_data.h5.118.xmf\n",
      "visdump_surface_data.h5.119.xmf\n",
      "visdump_surface_data.h5.120.xmf\n",
      "visdump_surface_data.h5.121.xmf\n",
      "visdump_surface_data.h5.122.xmf\n",
      "visdump_surface_data.h5.123.xmf\n",
      "visdump_surface_data.h5.124.xmf\n",
      "visdump_surface_data.h5.125.xmf\n",
      "visdump_surface_data.h5.126.xmf\n",
      "visdump_surface_data.h5.127.xmf\n",
      "visdump_surface_data.h5.128.xmf\n",
      "visdump_surface_data.h5.129.xmf\n",
      "visdump_surface_data.h5.13.xmf\n",
      "visdump_surface_data.h5.130.xmf\n",
      "visdump_surface_data.h5.131.xmf\n",
      "visdump_surface_data.h5.132.xmf\n",
      "visdump_surface_data.h5.133.xmf\n",
      "visdump_surface_data.h5.134.xmf\n",
      "visdump_surface_data.h5.135.xmf\n",
      "visdump_surface_data.h5.14.xmf\n",
      "visdump_surface_data.h5.15.xmf\n",
      "visdump_surface_data.h5.16.xmf\n",
      "visdump_surface_data.h5.17.xmf\n",
      "visdump_surface_data.h5.18.xmf\n",
      "visdump_surface_data.h5.19.xmf\n",
      "visdump_surface_data.h5.21.xmf\n",
      "visdump_surface_data.h5.23.xmf\n",
      "visdump_surface_data.h5.25.xmf\n",
      "visdump_surface_data.h5.27.xmf\n",
      "visdump_surface_data.h5.28.xmf\n",
      "visdump_surface_data.h5.32.xmf\n",
      "visdump_surface_data.h5.35.xmf\n",
      "visdump_surface_data.h5.37.xmf\n",
      "visdump_surface_data.h5.38.xmf\n",
      "visdump_surface_data.h5.39.xmf\n",
      "visdump_surface_data.h5.40.xmf\n",
      "visdump_surface_data.h5.41.xmf\n",
      "visdump_surface_data.h5.42.xmf\n",
      "visdump_surface_data.h5.43.xmf\n",
      "visdump_surface_data.h5.44.xmf\n",
      "visdump_surface_data.h5.45.xmf\n",
      "visdump_surface_data.h5.47.xmf\n",
      "visdump_surface_data.h5.49.xmf\n",
      "visdump_surface_data.h5.51.xmf\n",
      "visdump_surface_data.h5.53.xmf\n",
      "visdump_surface_data.h5.55.xmf\n",
      "visdump_surface_data.h5.56.xmf\n",
      "visdump_surface_data.h5.58.xmf\n",
      "visdump_surface_data.h5.60.xmf\n",
      "visdump_surface_data.h5.62.xmf\n",
      "visdump_surface_data.h5.64.xmf\n",
      "visdump_surface_data.h5.66.xmf\n",
      "visdump_surface_data.h5.67.xmf\n",
      "visdump_surface_data.h5.69.xmf\n",
      "visdump_surface_data.h5.71.xmf\n",
      "visdump_surface_data.h5.73.xmf\n",
      "visdump_surface_data.h5.75.xmf\n",
      "visdump_surface_data.h5.76.xmf\n",
      "visdump_surface_data.h5.77.xmf\n",
      "visdump_surface_data.h5.78.xmf\n",
      "visdump_surface_data.h5.79.xmf\n",
      "visdump_surface_data.h5.80.xmf\n",
      "visdump_surface_data.h5.81.xmf\n",
      "visdump_surface_data.h5.82.xmf\n",
      "visdump_surface_data.h5.83.xmf\n",
      "visdump_surface_data.h5.84.xmf\n",
      "visdump_surface_data.h5.85.xmf\n",
      "visdump_surface_data.h5.86.xmf\n",
      "visdump_surface_data.h5.87.xmf\n",
      "visdump_surface_data.h5.88.xmf\n",
      "visdump_surface_data.h5.89.xmf\n",
      "visdump_surface_data.h5.90.xmf\n",
      "visdump_surface_data.h5.91.xmf\n",
      "visdump_surface_data.h5.92.xmf\n",
      "visdump_surface_data.h5.93.xmf\n",
      "visdump_surface_data.h5.94.xmf\n",
      "visdump_surface_data.h5.95.xmf\n",
      "visdump_surface_data.h5.96.xmf\n",
      "visdump_surface_data.h5.97.xmf\n",
      "visdump_surface_data.h5.98.xmf\n",
      "visdump_surface_data.h5.99.xmf\n",
      "visdump_surface_mesh.VisIt.xmf\n",
      "visdump_surface_mesh.h5\n",
      "visdump_surface_mesh.h5.0.xmf\n"
     ]
    }
   ],
   "source": [
    "# List downloaded files\n",
    "dirs = os.listdir(local_folder)\n",
    "dirs.sort()\n",
    "for file in dirs:\n",
    "    print(file)\n"
   ]
  },
  {
   "cell_type": "code",
   "execution_count": null,
   "metadata": {},
   "outputs": [],
   "source": []
  }
 ],
 "metadata": {
  "kernelspec": {
   "display_name": "Python 3",
   "language": "python",
   "name": "python3"
  },
  "language_info": {
   "codemirror_mode": {
    "name": "ipython",
    "version": 3
   },
   "file_extension": ".py",
   "mimetype": "text/x-python",
   "name": "python",
   "nbconvert_exporter": "python",
   "pygments_lexer": "ipython3",
   "version": "3.5.2"
  }
 },
 "nbformat": 4,
 "nbformat_minor": 2
}
