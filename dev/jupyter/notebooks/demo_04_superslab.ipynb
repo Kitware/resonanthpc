{
 "cells": [
  {
   "cell_type": "markdown",
   "metadata": {},
   "source": [
    "# Run ATS Demo 04 Superslab on NERSC (Cori)\n",
    "\n",
    "## Before running this notebook\n",
    "\n",
    "1. You must first **use the nersc_login.ipynb notebook to login to NERSC**, which saves a \"NEWT session id\" to your home directory (`~/.newt_sessionid.txt`). That file is read in when using this notebook. The session id typically expires every 12-14 days.\n",
    "\n",
    "2. The first code cell in this noteboook sets the working directory. For this to work, you **must restart the kernel each time you run the first code cell**."
   ]
  },
  {
   "cell_type": "code",
   "execution_count": 1,
   "metadata": {},
   "outputs": [
    {
     "name": "stdout",
     "output_type": "stream",
     "text": [
      "Working directory /home/john/projects/resonant-hpc/git/resonantrpc/dev/jupyter\n"
     ]
    }
   ],
   "source": [
    "import os\n",
    "\n",
    "# Change working dir so that we can import local module\n",
    "# The following code works for me but might not be portable\n",
    "# And you MUST RESTART THE KERNEL BEFORE RUNNING THIS CELL!\n",
    "working_dir = os.path.abspath(os.path.join(os.getcwd(), os.pardir))\n",
    "os.chdir(working_dir)\n",
    "print('Working directory {}'.format(working_dir))\n",
    "from reshpc import nersc_interface as rn\n"
   ]
  },
  {
   "cell_type": "code",
   "execution_count": 2,
   "metadata": {},
   "outputs": [
    {
     "name": "stdout",
     "output_type": "stream",
     "text": [
      "sending command...\n"
     ]
    },
    {
     "data": {
      "text/plain": [
       "'OK'"
      ]
     },
     "execution_count": 2,
     "metadata": {},
     "output_type": "execute_result"
    }
   ],
   "source": [
    "nersc = rn.NerscInterface()\n",
    "nersc.login()"
   ]
  },
  {
   "cell_type": "code",
   "execution_count": 3,
   "metadata": {},
   "outputs": [
    {
     "name": "stdout",
     "output_type": "stream",
     "text": [
      "sending command...\n"
     ]
    },
    {
     "data": {
      "text/plain": [
       "'/global/cscratch1/sd/johnt'"
      ]
     },
     "execution_count": 3,
     "metadata": {},
     "output_type": "execute_result"
    }
   ],
   "source": [
    "# Get path to Cori $SCRATCH folder\n",
    "scratch_folder = nersc.get_scratch_folder()\n",
    "scratch_folder"
   ]
  },
  {
   "cell_type": "code",
   "execution_count": 4,
   "metadata": {},
   "outputs": [
    {
     "name": "stdout",
     "output_type": "stream",
     "text": [
      "sending command...\n"
     ]
    },
    {
     "data": {
      "text/plain": [
       "'OK'"
      ]
     },
     "execution_count": 4,
     "metadata": {},
     "output_type": "execute_result"
    }
   ],
   "source": [
    "# Make sure root folder for superslab is on Cori\n",
    "remote_root_folder = '{}/reshpc/demo04-superslab'.format(scratch_folder)\n",
    "nersc.make_folder(remote_root_folder)"
   ]
  },
  {
   "cell_type": "code",
   "execution_count": 5,
   "metadata": {},
   "outputs": [
    {
     "name": "stdout",
     "output_type": "stream",
     "text": [
      "sending command...\n",
      "exists on Cori? True\n"
     ]
    }
   ],
   "source": [
    "# Check if model file is in the root folder\n",
    "model_filename = 'super_slab.exo'\n",
    "local_model_path = os.path.join(working_dir, os.pardir, 'cmb', 'simulation-workflows', 'tests', 'test_demos', model_filename)\n",
    "assert os.path.exists(local_model_path), 'model file not found: {}'.format(local_model_path)\n",
    "\n",
    "remote_model_path = '{}/{}'.format(remote_root_folder, model_filename)\n",
    "exists = nersc.file_exists(remote_model_path)\n",
    "print('exists on Cori? {}'.format(exists))"
   ]
  },
  {
   "cell_type": "code",
   "execution_count": 6,
   "metadata": {},
   "outputs": [
    {
     "name": "stdout",
     "output_type": "stream",
     "text": [
      "OK\n"
     ]
    }
   ],
   "source": [
    "# If the file doesn't exist on Cori, upload it now (1.1 MB)\n",
    "if not exists:\n",
    "    nersc.upload_file(local_model_path, remote_root_folder)\n",
    "    print('Done')\n",
    "else:\n",
    "    print('OK')"
   ]
  },
  {
   "cell_type": "code",
   "execution_count": 7,
   "metadata": {},
   "outputs": [
    {
     "name": "stdout",
     "output_type": "stream",
     "text": [
      "job_folder /global/cscratch1/sd/johnt/reshpc/demo04-superslab/201024-2106\n",
      "sending command...\n"
     ]
    },
    {
     "data": {
      "text/plain": [
       "'OK'"
      ]
     },
     "execution_count": 7,
     "metadata": {},
     "output_type": "execute_result"
    }
   ],
   "source": [
    "# Generate new job folder, name yymmdd_hhmm\n",
    "import datetime\n",
    "now = datetime.datetime.now()\n",
    "datetime_code = now.strftime('%y%m%d-%H%M')\n",
    "datetime_code\n",
    "\n",
    "job_folder = '{}/{}'.format(remote_root_folder, datetime_code)\n",
    "print('job_folder {}'.format(job_folder))\n",
    "\n",
    "nersc.make_folder(job_folder)"
   ]
  },
  {
   "cell_type": "code",
   "execution_count": 13,
   "metadata": {},
   "outputs": [
    {
     "name": "stdout",
     "output_type": "stream",
     "text": [
      "sending command...\n"
     ]
    },
    {
     "data": {
      "text/plain": [
       "'OK'"
      ]
     },
     "execution_count": 13,
     "metadata": {},
     "output_type": "execute_result"
    }
   ],
   "source": [
    "# Upload ats spec file file\n",
    "xml_file = 'demo_04_superslab.xml'\n",
    "local_file = os.path.join(working_dir, 'data', xml_file)\n",
    "assert os.path.exists(local_file)\n",
    "\n",
    "nersc.upload_file(local_file, job_folder)"
   ]
  },
  {
   "cell_type": "code",
   "execution_count": 14,
   "metadata": {},
   "outputs": [
    {
     "name": "stdout",
     "output_type": "stream",
     "text": [
      "#!/bin/bash\n",
      "#SBATCH --account=m2398\n",
      "#SBATCH --chdir=/global/cscratch1/sd/johnt/reshpc/demo04-superslab/201024-2106\n",
      "#SBATCH --partition=debug\n",
      "#SBATCH --time=0:15:0\n",
      "#SBATCH --nodes=4\n",
      "#SBATCH --tasks-per-node=4\n",
      "#SBATCH --constraint=haswell\n",
      "ulimit -s unlimited\n",
      "srun /project/projectdirs/m2398/ideas/ats/install/cori/ats-0.88-basic/RelWithDebInfo/PrgEnv-gnu-6.0.5/bin/ats --xml_file=demo_04_superslab.xml\n",
      "\n"
     ]
    }
   ],
   "source": [
    "# Specify Slurm script\n",
    "ats = '/project/projectdirs/m2398/ideas/ats/install/cori/ats-0.88-basic/RelWithDebInfo/PrgEnv-gnu-6.0.5/bin/ats'\n",
    "timeout_min = 15\n",
    "nodes = 4\n",
    "cores_per_node = 4\n",
    "\n",
    "slurm_commands = [\n",
    "    '#!/bin/bash',\n",
    "    '#SBATCH --account=m2398',\n",
    "    '#SBATCH --chdir={}'.format(job_folder),\n",
    "    '#SBATCH --partition=debug',\n",
    "    '#SBATCH --time=0:{}:0'.format(timeout_min),\n",
    "    '#SBATCH --nodes={}'.format(nodes),\n",
    "    '#SBATCH --tasks-per-node={}'.format(cores_per_node),\n",
    "    '#SBATCH --constraint=haswell',\n",
    "    'ulimit -s unlimited',\n",
    "    'srun {} --xml_file={}'.format(ats, xml_file),\n",
    "    ''\n",
    "]\n",
    "slurm_string = '\\n'.join(slurm_commands)\n",
    "print(slurm_string)"
   ]
  },
  {
   "cell_type": "code",
   "execution_count": 15,
   "metadata": {},
   "outputs": [
    {
     "name": "stdout",
     "output_type": "stream",
     "text": [
      "uploading slurm script...\n",
      "submitting job...\n",
      "{'jobid': '35458934', 'status': 'OK', 'error': ''}\n"
     ]
    }
   ],
   "source": [
    "# Submit job\n",
    "result = nersc.submit_job(slurm_string, job_folder)\n",
    "print(result)"
   ]
  },
  {
   "cell_type": "code",
   "execution_count": 17,
   "metadata": {},
   "outputs": [
    {
     "name": "stdout",
     "output_type": "stream",
     "text": [
      "sending command...\n",
      "Job State: F (Failed)\n"
     ]
    }
   ],
   "source": [
    "# Execute this cell until the job state is complete,\n",
    "# generally this means the job state is NOT one of \"PD\", \"R\", \"CG\".\n",
    "# All of the Slurm job state codes are listed at https://slurm.schedmd.com/squeue.html#lbAG\n",
    "\n",
    "job_id = result.get('jobid')\n",
    "if job_id:\n",
    "    info = nersc.get_job_info(job_id, verbose=True)\n",
    "#     print(info)\n",
    "    state = info.get('status')\n",
    "    label = nersc.job_state_label(state)\n",
    "    print('Job State: {} ({})'.format(state, label))\n",
    "    if state in ['PD', 'R', 'CG']:\n",
    "        print('NOT done => continue checking')\n",
    "else:\n",
    "    print('Job was not submitted - go back and check for error in previous cell')"
   ]
  },
  {
   "cell_type": "code",
   "execution_count": 12,
   "metadata": {},
   "outputs": [
    {
     "name": "stdout",
     "output_type": "stream",
     "text": [
      "sending command...\n",
      "     344  visdump_data.VisIt.xmf\n",
      "   58632  visdump_data.h5\n",
      "    4241  visdump_data.h5.0.xmf\n",
      "    4241  visdump_data.h5.1.xmf\n",
      "     255  visdump_mesh.VisIt.xmf\n",
      "   20496  visdump_mesh.h5\n",
      "     596  visdump_mesh.h5.0.xmf\n"
     ]
    }
   ],
   "source": [
    "# Once the job is done, list the contents of the NERSC folder\n",
    "for item in nersc.list_folder(job_folder, glob_pattern='visdump_*'):\n",
    "    name = item.get('name')\n",
    "    size = int(item.get('size', 0))\n",
    "    row = '{:8}  {}'.format(size, name)\n",
    "    print(row)"
   ]
  },
  {
   "cell_type": "code",
   "execution_count": 13,
   "metadata": {},
   "outputs": [
    {
     "name": "stdout",
     "output_type": "stream",
     "text": [
      "sending command...\n",
      "Using local folder /home/john/.reshpc/data/201023-1458\n",
      "sending command...\n"
     ]
    },
    {
     "data": {
      "text/plain": [
       "'OK'"
      ]
     },
     "execution_count": 13,
     "metadata": {},
     "output_type": "execute_result"
    }
   ],
   "source": [
    "# Download the visdump files to a local folder\n",
    "# With the current api, we explicitly generate a tgz file on Cori then download and untar it.\n",
    "\n",
    "tarfile_name = 'visdump.tgz'\n",
    "nersc_tarfile = '{}/reshpc/{}'.format(scratch_folder, tarfile_name)\n",
    "nersc.make_tgzfile(job_folder, glob_pattern='visdump_*', tarfile=nersc_tarfile)\n",
    "\n",
    "# Create local data folder and download tar file\n",
    "local_folder = os.path.expanduser('~/.reshpc/data/{}'.format(datetime_code))\n",
    "print('Using local folder {}'.format(local_folder))\n",
    "if os.path.exists(local_folder):\n",
    "    shutil.rmtree(local_folder)\n",
    "os.makedirs(local_folder)\n",
    "nersc.download_file(nersc_tarfile, local_folder)\n"
   ]
  },
  {
   "cell_type": "code",
   "execution_count": 14,
   "metadata": {},
   "outputs": [],
   "source": [
    "# Expand tarfile\n",
    "import tarfile\n",
    "\n",
    "# tarfile_name = 'data.tgz'\n",
    "local_tarfile = os.path.join(local_folder, tarfile_name)\n",
    "tar = tarfile.open(local_tarfile)\n",
    "tar.extractall(local_folder)\n",
    "tar.close()\n",
    "\n",
    "# Optional\n",
    "# os.remove(local_tarfile)\n"
   ]
  },
  {
   "cell_type": "code",
   "execution_count": 15,
   "metadata": {},
   "outputs": [
    {
     "name": "stdout",
     "output_type": "stream",
     "text": [
      "visdump.tgz\n",
      "visdump_data.VisIt.xmf\n",
      "visdump_data.h5\n",
      "visdump_data.h5.0.xmf\n",
      "visdump_data.h5.1.xmf\n",
      "visdump_mesh.VisIt.xmf\n",
      "visdump_mesh.h5\n",
      "visdump_mesh.h5.0.xmf\n"
     ]
    }
   ],
   "source": [
    "# List downloaded files\n",
    "dirs = os.listdir(local_folder)\n",
    "dirs.sort()\n",
    "for file in dirs:\n",
    "    print(file)\n"
   ]
  },
  {
   "cell_type": "code",
   "execution_count": null,
   "metadata": {},
   "outputs": [],
   "source": []
  }
 ],
 "metadata": {
  "kernelspec": {
   "display_name": "Python 3",
   "language": "python",
   "name": "python3"
  },
  "language_info": {
   "codemirror_mode": {
    "name": "ipython",
    "version": 3
   },
   "file_extension": ".py",
   "mimetype": "text/x-python",
   "name": "python",
   "nbconvert_exporter": "python",
   "pygments_lexer": "ipython3",
   "version": "3.5.2"
  }
 },
 "nbformat": 4,
 "nbformat_minor": 2
}
